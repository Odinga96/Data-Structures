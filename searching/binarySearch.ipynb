{
  "nbformat": 4,
  "nbformat_minor": 0,
  "metadata": {
    "colab": {
      "name": "Untitled2.ipynb",
      "provenance": [],
      "authorship_tag": "ABX9TyMH1gQshV5CXwElqSB/3gDK",
      "include_colab_link": true
    },
    "kernelspec": {
      "name": "python3",
      "display_name": "Python 3"
    },
    "language_info": {
      "name": "python"
    }
  },
  "cells": [
    {
      "cell_type": "markdown",
      "metadata": {
        "id": "view-in-github",
        "colab_type": "text"
      },
      "source": [
        "<a href=\"https://colab.research.google.com/github/Odinga96/Data-Structures/blob/main/searching/binarySearch.ipynb\" target=\"_parent\"><img src=\"https://colab.research.google.com/assets/colab-badge.svg\" alt=\"Open In Colab\"/></a>"
      ]
    },
    {
      "cell_type": "markdown",
      "source": [
        "Binary Search"
      ],
      "metadata": {
        "id": "iignBjRQ6j5g"
      }
    },
    {
      "cell_type": "code",
      "execution_count": 2,
      "metadata": {
        "colab": {
          "base_uri": "https://localhost:8080/"
        },
        "id": "LacI5Cvd5hbZ",
        "outputId": "3b4cbd15-59ab-400a-cc19-5b706ef96a5b"
      },
      "outputs": [
        {
          "output_type": "stream",
          "name": "stdout",
          "text": [
            "True\n"
          ]
        }
      ],
      "source": [
        "def BinarySearch(list, item): \n",
        "   first = 0 \n",
        "   last = len(list)-1 \n",
        "   found = False \n",
        "\n",
        "   while first<=last and not found:         \n",
        "      midpoint = (first + last)//2         \n",
        "      if list[midpoint] == item:             \n",
        "        found = True         \n",
        "      else:             \n",
        "        if item < list[midpoint]:                 \n",
        "            last = midpoint-1             \n",
        "        else:                 \n",
        "            first = midpoint+1     \n",
        "   return found\n",
        "\n",
        "\n",
        "print(BinarySearch([1, 40, 70, 80, 155, 167, 300], 40))"
      ]
    }
  ]
}
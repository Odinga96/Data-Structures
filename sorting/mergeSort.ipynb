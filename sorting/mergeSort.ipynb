{
  "cells": [
    {
      "cell_type": "markdown",
      "metadata": {
        "id": "view-in-github",
        "colab_type": "text"
      },
      "source": [
        "<a href=\"https://colab.research.google.com/github/Odinga96/Data-Structures/blob/main/sorting/mergeSort.ipynb\" target=\"_parent\"><img src=\"https://colab.research.google.com/assets/colab-badge.svg\" alt=\"Open In Colab\"/></a>"
      ]
    },
    {
      "cell_type": "code",
      "source": [
        "def mergeSort(list):\n",
        "  \n",
        "  if len(list) > 1:\n",
        "    mid = len(list)//2\n",
        "    left = list[:mid]\n",
        "    right = list[mid:]\n",
        "\n",
        "\n",
        "    mergeSort(left)\n",
        "    mergeSort(right)\n",
        "\n",
        "    a=0\n",
        "    b=0\n",
        "    c=0\n",
        "\n",
        "    while a < len(left) and b < len(right):\n",
        "      if left[a] < right[b]:\n",
        "        list[c] = left[a]\n",
        "        a = a + 1\n",
        "      else:\n",
        "        list[c]=right[b]\n",
        "        b = b+1\n",
        "\n",
        "      c = c+1\n",
        "    while a < len(left):\n",
        "      list[c] = left[a]\n",
        "      a = a + 1\n",
        "      c = c + 1\n",
        "\n",
        "    while b < len(right):\n",
        "      list[c] = right[b]\n",
        "      b = b + 1\n",
        "      c = c + 1\n",
        "\n",
        "  return list\n",
        "\n",
        "print(mergeSort([10,70,1,3,50,7,80,0,-9]))"
      ],
      "metadata": {
        "colab": {
          "base_uri": "https://localhost:8080/"
        },
        "id": "SgwXngCzTvYT",
        "outputId": "973570e3-9b34-4d0e-941a-afa7bfcbaef3"
      },
      "execution_count": 12,
      "outputs": [
        {
          "output_type": "stream",
          "name": "stdout",
          "text": [
            "**********\n",
            "mid:  4\n",
            "left:  [10, 70, 1, 3]\n",
            "right:  [50, 7, 80, 0, -9]\n",
            "----------\n",
            "**********\n",
            "mid:  2\n",
            "left:  [10, 70]\n",
            "right:  [1, 3]\n",
            "----------\n",
            "**********\n",
            "mid:  1\n",
            "left:  [10]\n",
            "right:  [70]\n",
            "----------\n",
            "**********\n",
            "mid:  1\n",
            "left:  [1]\n",
            "right:  [3]\n",
            "----------\n",
            "**********\n",
            "mid:  2\n",
            "left:  [50, 7]\n",
            "right:  [80, 0, -9]\n",
            "----------\n",
            "**********\n",
            "mid:  1\n",
            "left:  [50]\n",
            "right:  [7]\n",
            "----------\n",
            "**********\n",
            "mid:  1\n",
            "left:  [80]\n",
            "right:  [0, -9]\n",
            "----------\n",
            "**********\n",
            "mid:  1\n",
            "left:  [0]\n",
            "right:  [-9]\n",
            "----------\n",
            "[-9, 0, 1, 3, 7, 10, 50, 70, 80]\n"
          ]
        }
      ]
    },
    {
      "cell_type": "markdown",
      "source": [
        "# New Section"
      ],
      "metadata": {
        "id": "m_LJTyJNh0JM"
      }
    }
  ],
  "metadata": {
    "colab": {
      "collapsed_sections": [],
      "name": "Welcome To Colaboratory",
      "toc_visible": true,
      "provenance": [],
      "include_colab_link": true
    },
    "kernelspec": {
      "display_name": "Python 3",
      "name": "python3"
    }
  },
  "nbformat": 4,
  "nbformat_minor": 0
}
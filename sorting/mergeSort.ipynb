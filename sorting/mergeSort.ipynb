{
  "cells": [
    {
      "cell_type": "markdown",
      "metadata": {
        "id": "view-in-github",
        "colab_type": "text"
      },
      "source": [
        "<a href=\"https://colab.research.google.com/github/Odinga96/Data-Structures/blob/main/sorting/mergeSort.ipynb\" target=\"_parent\"><img src=\"https://colab.research.google.com/assets/colab-badge.svg\" alt=\"Open In Colab\"/></a>"
      ]
    },
    {
      "cell_type": "code",
      "source": [
        "def mergeSort(list):\n",
        "  \n",
        "  if len(list) > 1:\n",
        "    mid = len(list)//2\n",
        "    left = list[:mid]\n",
        "    right = list[mid:]\n",
        "\n",
        "\n",
        "    mergeSort(left)\n",
        "    mergeSort(right)\n",
        "\n",
        "    a=0\n",
        "    b=0\n",
        "    c=0\n",
        "\n",
        "    while a < len(left) and b < len(right):\n",
        "      if left[a] < right[b]:\n",
        "        list[c] = left[a]\n",
        "        a = a + 1\n",
        "      else:\n",
        "        list[c]=right[b]\n",
        "        b = b+1\n",
        "\n",
        "      c = c+1\n",
        "    while a < len(left):\n",
        "      list[c] = left[a]\n",
        "      a = a + 1\n",
        "      c = c + 1\n",
        "\n",
        "    while b < len(right):\n",
        "      list[c] = right[b]\n",
        "      b = b + 1\n",
        "      c = c + 1\n",
        "\n",
        "  return list\n",
        "\n",
        "print(mergeSort([10,70,1,3,50,7,80,0,-9]))"
      ],
      "metadata": {
        "colab": {
          "base_uri": "https://localhost:8080/"
        },
        "id": "SgwXngCzTvYT",
        "outputId": "be62e4ad-7323-4b33-f737-a86334fdacab"
      },
      "execution_count": 1,
      "outputs": [
        {
          "output_type": "stream",
          "name": "stdout",
          "text": [
            "[-9, 0, 1, 3, 7, 10, 50, 70, 80]\n"
          ]
        }
      ]
    },
    {
      "cell_type": "markdown",
      "source": [
        "# Shell Sort"
      ],
      "metadata": {
        "id": "m_LJTyJNh0JM"
      }
    },
    {
      "cell_type": "code",
      "source": [
        "def ShellSort(list):     \n",
        "    distance = len(list) // 2     \n",
        "    while distance > 0:         \n",
        "        for i in range(distance, len(list)):             \n",
        "            temp = list[i]             \n",
        "            j = i \n",
        "            \n",
        "            # Sort the sub list for this distance \n",
        "            while j >= distance and list[j - distance] > temp: \n",
        "              list[j] = list[j - distance] \n",
        "              j = j-distance            \n",
        "            list[j] = temp \n",
        "        \n",
        "        # Reduce the distance for the next element         \n",
        "        distance = distance//2\n",
        "    return list\n",
        "\n",
        "print(ShellSort([10,70,1,3,50,7,80,0,-9]))"
      ],
      "metadata": {
        "id": "B8cPAOfBuajS",
        "colab": {
          "base_uri": "https://localhost:8080/"
        },
        "outputId": "3ea638b6-1e90-462e-be50-033a428a22c6"
      },
      "execution_count": 2,
      "outputs": [
        {
          "output_type": "stream",
          "name": "stdout",
          "text": [
            "[-9, 0, 1, 3, 7, 10, 50, 70, 80]\n"
          ]
        }
      ]
    },
    {
      "cell_type": "markdown",
      "source": [
        "# Selection Sort"
      ],
      "metadata": {
        "id": "mEb7ZTLu2T0J"
      }
    },
    {
      "cell_type": "code",
      "source": [
        "def SelectionSort(list):     \n",
        "    for fill_slot in range(len(list) - 1, 0, -1):         \n",
        "        max_index = 0         \n",
        "        for location in range(1, fill_slot + 1):             \n",
        "            if list[location] > list[max_index]:                 \n",
        "                max_index = location         \n",
        "        list[fill_slot],list[max_index] = list[max_index],list[fill_slot]\n",
        "\n",
        "list =[10,70,1,3,50,7,80,0,-9]\n",
        "SelectionSort(list)\n",
        "print(list)"
      ],
      "metadata": {
        "id": "Jcb0d1mx2bK2",
        "outputId": "22f70cb0-2fb2-4bd7-9b52-5a53bf7ca6ca",
        "colab": {
          "base_uri": "https://localhost:8080/"
        }
      },
      "execution_count": 3,
      "outputs": [
        {
          "output_type": "stream",
          "name": "stdout",
          "text": [
            "[-9, 0, 1, 3, 7, 10, 50, 70, 80]\n"
          ]
        }
      ]
    }
  ],
  "metadata": {
    "colab": {
      "collapsed_sections": [],
      "name": "Welcome To Colaboratory",
      "toc_visible": true,
      "provenance": [],
      "include_colab_link": true
    },
    "kernelspec": {
      "display_name": "Python 3",
      "name": "python3"
    }
  },
  "nbformat": 4,
  "nbformat_minor": 0
}